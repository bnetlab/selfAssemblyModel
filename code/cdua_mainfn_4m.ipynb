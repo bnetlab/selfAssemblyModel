{
 "cells": [
  {
   "cell_type": "code",
   "execution_count": 13,
   "metadata": {},
   "outputs": [],
   "source": [
    "import numpy as np\n",
    "import pandas as pd\n",
    "import scipy as sp\n",
    "import math\n",
    "import pycuda.autoinit\n",
    "import pycuda.driver as cuda\n",
    "from pycuda.compiler import SourceModule\n",
    "import os\n",
    "\n",
    "import time\n",
    "from joblib import Parallel, delayed"
   ]
  },
  {
   "cell_type": "code",
   "execution_count": 2,
   "metadata": {},
   "outputs": [],
   "source": [
    "mod = SourceModule(\"\"\"\n",
    "    # include <stdio.h>\n",
    "    \n",
    "    #define N 1000\n",
    "    \n",
    "    \n",
    "    __global__ void doIndexy(float *Z, int *indexx, int *indexy, int *P1a, int *P1b, float *P4, float *P3a, float *P3b, int totalSum, int totalThread )\n",
    "    { \n",
    "        \n",
    "        int idx = blockIdx.x * blockDim.x + threadIdx.x; \n",
    "\n",
    "        if(idx >= totalThread){\n",
    "            return;\n",
    "        }\n",
    "\n",
    "        float sum_a = 0;\n",
    "        float sum_b = 0;\n",
    "        int j = indexy[idx]; \n",
    "        for (int i = 0; i < totalSum ; i++){\n",
    "           if(Z[indexx[i]+j]>0.f){\n",
    "               sum_a += 0.1*0.1*0.1 * Z[indexx[i]+j] * P1a[i];\n",
    "               sum_b += 0.1*0.1*0.1 * Z[indexx[i]+j] * P1b[i];\n",
    "           }\n",
    "           \n",
    "        }; \n",
    "        //printf(\"%d\\t%f\\t%f\\t%d\\t%d\\t%d\\t%d\\\\n\",idx,sum1,Z[0],indexx[sizeof(indexy)/sizeof(indexy[0]) - 1], indexy[0],P1[0],total);\n",
    "        P3a[idx] = sum_a*P4[idx]; \n",
    "        P3b[idx] = sum_b*P4[idx];\n",
    "        \n",
    "    }\"\"\")"
   ]
  },
  {
   "cell_type": "code",
   "execution_count": 40,
   "metadata": {},
   "outputs": [],
   "source": [
    "\n",
    "# calculate equation 1\n",
    "def eq1s2(t2,t3,t4,T):\n",
    "    a=np.empty(len(t4))\n",
    "    for i in range(0,len(t4)):\n",
    "        arr = np.array([t2[i],t3[i],t4[i],0])\n",
    "        arr = np.sort(arr, axis=None)\n",
    "        a[i]=1- np.heaviside (np.absolute(arr[3] -arr[1])- T, 0)\n",
    "    return a\n",
    "\n",
    "def eq1s4(t2,t3,t4,T):\n",
    "    a=np.empty(len(t4))\n",
    "    for i in range(0,len(t4)):\n",
    "        arr = np.array([t2[i],t3[i],t4[i],0])\n",
    "        arr = np.sort(arr, axis=None)\n",
    "        a[i]= bool(np.heaviside (np.absolute(arr[2] -arr[1])- T, 0)) and bool((np.heaviside(np.absolute(arr[3] -arr[2])- T, 0)))\n",
    "    return a\n",
    "\n",
    "# for N=3 \n",
    "def eq4(a,b,c,tau=1):\n",
    "    ps = np.empty(len(a))\n",
    "    for i in range(len(a)):\n",
    "        if(b[i] >= a[i]) and (c[i]>=a[i]) and (c[i] >= b[i]):\n",
    "            ps[i] = (1/tau**3)*(math.exp(-1*c[i]/tau))\n",
    "        else: \n",
    "            ps[i] = 0\n",
    "    return ps"
   ]
  },
  {
   "cell_type": "code",
   "execution_count": 5,
   "metadata": {
    "scrolled": true
   },
   "outputs": [
    {
     "name": "stdout",
     "output_type": "stream",
     "text": [
      "I am here\n",
      "0 2030150 6090450 0 (8120601,)\n",
      "I am going into cuda\n",
      "I am out of  cuda\n",
      "Prob:  [ 0.23490175  0.14351266] Sec:  55.73603916168213 inCuda  2.100482940673828\n"
     ]
    }
   ],
   "source": [
    "start = time.time()\n",
    "tmax= Pmax - tmin;\n",
    "Pin_point= int((Pmax-Pmin)/bin_size +1);\n",
    "obs_point=int((tmax-tmin)/bin_size + 1);\n",
    "Zmax=tmax;\n",
    "Zmin=tmin-Pmax;\n",
    "Z_point=int((Zmax-Zmin)/bin_size + 1);\n",
    "\n",
    "t4, t3,t2 = np.meshgrid(np.arange(tmin,tmax+0.001,bin_size), np.arange(tmin,tmax+0.001,bin_size), np.arange(tmin,tmax+0.001,bin_size));\n",
    "t2 = t2.ravel()\n",
    "t3 = t3.ravel()\n",
    "t4 = t4.ravel()\n",
    "\n",
    "tau4,tau3,tau2 = np.meshgrid(np.arange(Pmin,Pmax+0.001,bin_size), np.arange(Pmin,Pmax+0.001,bin_size), np.arange(Pmin,Pmax+0.001,bin_size));\n",
    "tau2 = tau2.ravel()\n",
    "tau3 = tau3.ravel()\n",
    "tau4 = tau4.ravel()\n",
    "\n",
    "p1s2=eq1s2(t3,t4,t2,T)\n",
    "p1s4=eq1s4(t3,t4,t2,T)\n",
    "\n",
    "f2 = pd.read_csv('savedist_4d.tsv',sep=' ', squeeze=True, header=None).values\n",
    "\n",
    "# reading indexx and indexy\n",
    "# indexy = np.load(\"indexy.npy\")\n",
    "# indexx = np.load(\"indexx.npy\")\n",
    "\n",
    "\n",
    "indexy = np.zeros(Pin_point ** 3,dtype=int)\n",
    "for k in range (0,Pin_point):\n",
    "    for k1 in range (0,Pin_point):\n",
    "        a = [i for i in range( Z_point*Z_point*k + Z_point*k1 , Z_point*Z_point*k + Z_point*k1 + Pin_point)] \n",
    "        indexy[ k*Pin_point*Pin_point + k1*Pin_point : k*Pin_point*Pin_point + (k1+1)*Pin_point] = a\n",
    "\n",
    "print(\"I am here\")\n",
    "indexy = indexy[::-1]\n",
    "\n",
    "\n",
    "indexx = np.zeros(obs_point ** 3, dtype=int)\n",
    "\n",
    "for k in range (0,obs_point): \n",
    "    for k1 in range (0,obs_point): \n",
    "        a = [i for i in range(Z_point*Z_point*k + k1*Z_point, Z_point*Z_point*k + k1*Z_point + obs_point )] \n",
    "        indexx[k*obs_point*obs_point + obs_point*k1 : k*obs_point*obs_point + (k1+1)*obs_point ] = a\n",
    "#     np.save('indexy', indexy)\n",
    "#     np.save('indexx', indexx)\n",
    "\n",
    "print(indexx[0], indexy[0], indexx[-1], indexy[-1], f2.shape)\n",
    "\n",
    "p4 = eq4(tau3,tau4,tau2,tau)\n",
    "\n",
    "print(\"I am going into cuda\")\n",
    "# cuda\n",
    "\n",
    "startC=time.time()\n",
    "d_Z = cuda.mem_alloc(np.float32(f2).nbytes)\n",
    "cuda.memcpy_htod(d_Z, np.float32(f2))\n",
    "\n",
    "d_indexx = cuda.mem_alloc(np.int32(indexx).nbytes)\n",
    "cuda.memcpy_htod(d_indexx, np.int32(indexx))\n",
    "\n",
    "d_indexy = cuda.mem_alloc(np.int32(indexy).nbytes)\n",
    "cuda.memcpy_htod(d_indexy, np.int32(indexy))\n",
    "\n",
    "d_P1S2 = cuda.mem_alloc(np.int32(p1s2).nbytes) \n",
    "cuda.memcpy_htod(d_P1S2, np.int32(p1s2))\n",
    "\n",
    "d_P1S4 = cuda.mem_alloc(np.int32(p1s4).nbytes) \n",
    "cuda.memcpy_htod(d_P1S4, np.int32(p1s4))\n",
    "\n",
    "d_P4 = cuda.mem_alloc(np.float32(p4).nbytes) \n",
    "cuda.memcpy_htod(d_P4, np.float32(p4))\n",
    "\n",
    "d_P3S2 = cuda.mem_alloc(np.float32(indexy).nbytes)\n",
    "cuda.memcpy_htod(d_P3S2, np.float32(np.zeros_like(indexy)))\n",
    "d_P3S4 = cuda.mem_alloc(np.float32(indexy).nbytes)\n",
    "cuda.memcpy_htod(d_P3S4, np.float32(np.zeros_like(indexy))) \n",
    "\n",
    "func = mod.get_function(\"doIndexy\")\n",
    "\n",
    "blocksize = 128\n",
    "gridsize = math.floor(len(indexy)/blocksize)\n",
    "func(d_Z, d_indexx, d_indexy, d_P1S2, d_P1S4,d_P4, d_P3S2, d_P3S4, np.int32(len(p1s2)),np.int32(len(p4)), block=(blocksize,1,1), grid =(gridsize,1,1))\n",
    "\n",
    "cuda.Context.synchronize()\n",
    "\n",
    "h_test_outs2 = np.empty_like(np.float32(p4))\n",
    "h_test_outs4 = np.empty_like(np.float32(p4))\n",
    "cuda.memcpy_dtoh(h_test_outs2, d_P3S2)\n",
    "cuda.memcpy_dtoh(h_test_outs4, d_P3S4)\n",
    "\n",
    "cuda.Context.synchronize()\n",
    "\n",
    "print(\"I am out of  cuda\")\n",
    "\n",
    "p=np.empty(2)\n",
    "p[0] = bin_size*bin_size*bin_size*np.sum( h_test_outs2)\n",
    "p[1] = bin_size*bin_size*bin_size*np.sum( h_test_outs4)\n",
    "\n",
    "filename = \"testfile\" + str(mu) + str (lamda) +str(T) +str (tau)\n",
    "file = open(filename,\"w\") \n",
    "file.write(str(p))\n",
    "file.close() \n",
    "print(\"Prob: \", p, \"Sec: \", time.time() - start, \"inCuda \", time.time()- startC)"
   ]
  },
  {
   "cell_type": "raw",
   "metadata": {},
   "source": [
    "mainfn(0.1, 0, 5, -5, 1, 1, 1, 1)\n",
    "\n",
    "if __name__== \"__main__\":\n",
    "  mainfn(float(sys.argv[1]), float(sys.argv[2]),float(sys.argv[3]),float(sys.argv[4]),float(sys.argv[5]),float(sys.argv[6]),float(sys.argv[7]),float(sys.argv[8]))"
   ]
  },
  {
   "cell_type": "raw",
   "metadata": {},
   "source": [
    "if __name__== \"__main__\":\n",
    "  mainfn(float(sys.argv[1]), float(sys.argv[2]),float(sys.argv[3]),float(sys.argv[4]),float(sys.argv[5]),float(sys.argv[6]),float(sys.argv[7]),float(sys.argv[8]))"
   ]
  }
 ],
 "metadata": {
  "kernelspec": {
   "display_name": "Python 3",
   "language": "python",
   "name": "python3"
  },
  "language_info": {
   "codemirror_mode": {
    "name": "ipython",
    "version": 3
   },
   "file_extension": ".py",
   "mimetype": "text/x-python",
   "name": "python",
   "nbconvert_exporter": "python",
   "pygments_lexer": "ipython3",
   "version": "3.7.2"
  },
  "varInspector": {
   "cols": {
    "lenName": 16,
    "lenType": 16,
    "lenVar": 40
   },
   "kernels_config": {
    "python": {
     "delete_cmd_postfix": "",
     "delete_cmd_prefix": "del ",
     "library": "var_list.py",
     "varRefreshCmd": "print(var_dic_list())"
    },
    "r": {
     "delete_cmd_postfix": ") ",
     "delete_cmd_prefix": "rm(",
     "library": "var_list.r",
     "varRefreshCmd": "cat(var_dic_list()) "
    }
   },
   "position": {
    "height": "787px",
    "left": "1503px",
    "right": "24px",
    "top": "116px",
    "width": "323px"
   },
   "types_to_exclude": [
    "module",
    "function",
    "builtin_function_or_method",
    "instance",
    "_Feature"
   ],
   "window_display": true
  }
 },
 "nbformat": 4,
 "nbformat_minor": 2
}
