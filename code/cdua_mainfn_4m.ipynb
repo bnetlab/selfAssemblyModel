{
 "cells": [
  {
   "cell_type": "code",
   "execution_count": 1,
   "metadata": {},
   "outputs": [],
   "source": [
    "import numpy as np\n",
    "import pandas as pd\n",
    "import scipy as sp\n",
    "import math\n",
    "import pycuda.autoinit\n",
    "import pycuda.driver as cuda\n",
    "from pycuda.compiler import SourceModule\n",
    "import os\n",
    "\n",
    "import time\n",
    "from joblib import Parallel, delayed"
   ]
  },
  {
   "cell_type": "code",
   "execution_count": 2,
   "metadata": {},
   "outputs": [],
   "source": [
    "mod = SourceModule(\"\"\"\n",
    "    # include <stdio.h>\n",
    "    \n",
    "    #define N 1000\n",
    "    \n",
    "    \n",
    "    __global__ void doIndexy(float *Z, int *indexx, int *indexy, int *P1a, int *P1b, float *P4, float *P3a, float *P3b, int totalSum, int totalThread )\n",
    "    { \n",
    "        \n",
    "        int idx = blockIdx.x * blockDim.x + threadIdx.x; \n",
    "\n",
    "        if(idx >= totalThread){\n",
    "            return;\n",
    "        }\n",
    "\n",
    "        float sum_a = 0;\n",
    "        float sum_b = 0;\n",
    "        int j = indexy[idx]; \n",
    "        for (int i = 0; i < totalSum ; i++){\n",
    "           if(Z[indexx[i]+j]>0.f){\n",
    "               sum_a += 0.1*0.1*0.1 * Z[indexx[i]+j] * P1a[i];\n",
    "               sum_b += 0.1*0.1*0.1 * Z[indexx[i]+j] * P1b[i];\n",
    "           }\n",
    "           \n",
    "        }; \n",
    "        //printf(\"%d\\t%f\\t%f\\t%d\\t%d\\t%d\\t%d\\\\n\",idx,sum1,Z[0],indexx[sizeof(indexy)/sizeof(indexy[0]) - 1], indexy[0],P1[0],total);\n",
    "        P3a[idx] = sum_a*P4[idx]; \n",
    "        P3b[idx] = sum_b*P4[idx];\n",
    "        \n",
    "    }\"\"\")"
   ]
  },
  {
   "cell_type": "code",
   "execution_count": 8,
   "metadata": {},
   "outputs": [],
   "source": [
    "\n",
    "# calculate equation 1\n",
    "def eq1s2(t,T):\n",
    "    a=np.empty(len(t[0]))\n",
    "    for i in range(0,len(t[0])):\n",
    "        arr = np.array([t[i,0],t[i,1],t[i,2],0])\n",
    "        arr = np.sort(arr, axis=None)\n",
    "        a[i]=1- np.heaviside (np.absolute(arr[3] -arr[1])- T, 0)\n",
    "    return a\n",
    "\n",
    "def eq1s4(t2,t3,t4,T):\n",
    "    a=np.empty(len(t4))\n",
    "    for i in range(0,len(t4)):\n",
    "        arr = np.array([t2[i],t3[i],t4[i],0])\n",
    "        arr = np.sort(arr, axis=None)\n",
    "        a[i]= bool(np.heaviside (np.absolute(arr[2] -arr[1])- T, 0)) and bool((np.heaviside(np.absolute(arr[3] -arr[2])- T, 0)))\n",
    "    return a\n",
    "\n",
    "# for N=3 \n",
    "def eq4(a,b,c,tau=1):\n",
    "    ps = np.empty(len(a))\n",
    "    for i in range(len(a)):\n",
    "        if(b[i] >= a[i]) and (c[i]>=a[i]) and (c[i] >= b[i]):\n",
    "            ps[i] = (1/tau**3)*(math.exp(-1*c[i]/tau))\n",
    "        else: \n",
    "            ps[i] = 0\n",
    "    return ps"
   ]
  },
  {
   "cell_type": "code",
   "execution_count": 2,
   "metadata": {},
   "outputs": [],
   "source": [
    "def eq1(t,T):\n",
    "    a=np.empty(t.shape[0])\n",
    "    for i in range(0,len(t)):\n",
    "        arr = t[i]\n",
    "        arr = np.sort(arr, axis=None)\n",
    "        count=2; j = 1; k=j+1;\n",
    "        while k < arr.shape[0]:\n",
    "            if (arr[k] - arr[j] >= T):\n",
    "                count+=1; j+=1 ;k+=1;\n",
    "            else:\n",
    "                k+=1                \n",
    "        a[i]= count\n",
    "    return a\n",
    "\n",
    "def eq4(a,d,tau=1):\n",
    "    ps = np.empty(len(a))\n",
    "    for i in range(len(a)):\n",
    "        arr =a[i]\n",
    "        if np.all(arr[:-1] <= arr[1:]):\n",
    "            ps[i] = (1/tau**(d-1))*(math.exp(-1*arr[-1]/tau))\n",
    "        else: \n",
    "            ps[i] = 0\n",
    "    return ps"
   ]
  },
  {
   "cell_type": "code",
   "execution_count": 3,
   "metadata": {},
   "outputs": [],
   "source": [
    "# parameter\n",
    "tau = 1;\n",
    "T = 1;\n",
    "mu = 1.0;\n",
    "lamda = 1.0;\n",
    "bin_size = 0.10;\n",
    "Pmin = 0;\n",
    "Pmax = 1;\n",
    "tmin = -1;\n",
    "d=4"
   ]
  },
  {
   "cell_type": "code",
   "execution_count": 4,
   "metadata": {},
   "outputs": [],
   "source": [
    "tmax= Pmax - tmin;\n",
    "Pin_point= int((Pmax-Pmin)/bin_size +1);\n",
    "obs_point=int((tmax-tmin)/bin_size + 1);\n",
    "Zmax=tmax;\n",
    "Zmin=tmin-Pmax;\n",
    "Z_point=int((Zmax-Zmin)/bin_size + 1);\n",
    "\n",
    "t=np.zeros((obs_point**3,d),dtype=float)\n",
    "temp =np.arange(tmin,tmax+0.001,bin_size)\n",
    "for i in range(d-1):\n",
    "    temp1 = np.repeat(temp,obs_point**(d-i-2))\n",
    "    temp2 = np.tile(temp1,obs_point**i)\n",
    "    t[:,i] =temp2\n",
    "del temp1,temp2\n",
    "p1 = eq1(t,T)\n",
    "del "
   ]
  },
  {
   "cell_type": "code",
   "execution_count": 20,
   "metadata": {},
   "outputs": [],
   "source": [
    "tauT=np.zeros((Pin_point**3,d-1),dtype=float)\n",
    "temp =np.arange(Pmin,Pmax+0.001,bin_size)\n",
    "for i in range(d-1):\n",
    "    temp1 = np.repeat(temp,Pin_point**(d-i-2))\n",
    "    temp2 = np.tile(temp1,Pin_point**i)\n",
    "    tauT[:,i] =temp2\n",
    "del temp1,temp2\n",
    "p4 = eq4(tauT,d,tau)"
   ]
  },
  {
   "cell_type": "code",
   "execution_count": 28,
   "metadata": {},
   "outputs": [
    {
     "data": {
      "text/plain": [
       "4"
      ]
     },
     "execution_count": 28,
     "metadata": {},
     "output_type": "execute_result"
    }
   ],
   "source": [
    "d"
   ]
  },
  {
   "cell_type": "code",
   "execution_count": 48,
   "metadata": {},
   "outputs": [],
   "source": [
    "for k1 in range (0,Pin_point):\n",
    "    a=0\n",
    "    for i in range(d-1):\n",
    "        for j in range(0,i+1):\n",
    "        \n",
    "            a += Z_point**j*k\n",
    "            print(a)"
   ]
  },
  {
   "cell_type": "code",
   "execution_count": 50,
   "metadata": {
    "scrolled": true
   },
   "outputs": [
    {
     "ename": "SyntaxError",
     "evalue": "invalid syntax (<ipython-input-50-d7ba80e9740e>, line 2)",
     "output_type": "error",
     "traceback": [
      "\u001b[0;36m  File \u001b[0;32m\"<ipython-input-50-d7ba80e9740e>\"\u001b[0;36m, line \u001b[0;32m2\u001b[0m\n\u001b[0;31m    for n, a in enumerate(list(range(Pin_point)))\u001b[0m\n\u001b[0m                                                 ^\u001b[0m\n\u001b[0;31mSyntaxError\u001b[0m\u001b[0;31m:\u001b[0m invalid syntax\n"
     ]
    }
   ],
   "source": [
    "for i in range(d-1):\n",
    "    for n, a in enumerate(list(range(Pin_point))):\n",
    "        ans += "
   ]
  },
  {
   "cell_type": "code",
   "execution_count": 71,
   "metadata": {},
   "outputs": [
    {
     "ename": "ValueError",
     "evalue": "could not broadcast input array from shape (18491) into shape (29791)",
     "output_type": "error",
     "traceback": [
      "\u001b[0;31m---------------------------------------------------------------------------\u001b[0m",
      "\u001b[0;31mValueError\u001b[0m                                Traceback (most recent call last)",
      "\u001b[0;32m<ipython-input-71-b88e1bfb5d5c>\u001b[0m in \u001b[0;36m<module>\u001b[0;34m()\u001b[0m\n\u001b[1;32m      5\u001b[0m     \u001b[0mtemp1\u001b[0m \u001b[0;34m=\u001b[0m \u001b[0mnp\u001b[0m\u001b[0;34m.\u001b[0m\u001b[0mrepeat\u001b[0m\u001b[0;34m(\u001b[0m\u001b[0mtemp\u001b[0m\u001b[0;34m,\u001b[0m\u001b[0mZ_point\u001b[0m\u001b[0;34m**\u001b[0m\u001b[0;34m(\u001b[0m\u001b[0md\u001b[0m\u001b[0;34m-\u001b[0m\u001b[0mi\u001b[0m\u001b[0;34m-\u001b[0m\u001b[0;36m2\u001b[0m\u001b[0;34m)\u001b[0m\u001b[0;34m)\u001b[0m\u001b[0;34m\u001b[0m\u001b[0m\n\u001b[1;32m      6\u001b[0m     \u001b[0mtemp2\u001b[0m \u001b[0;34m=\u001b[0m \u001b[0mnp\u001b[0m\u001b[0;34m.\u001b[0m\u001b[0mtile\u001b[0m\u001b[0;34m(\u001b[0m\u001b[0mtemp1\u001b[0m\u001b[0;34m,\u001b[0m\u001b[0mZ_point\u001b[0m\u001b[0;34m**\u001b[0m\u001b[0mi\u001b[0m\u001b[0;34m)\u001b[0m\u001b[0;34m\u001b[0m\u001b[0m\n\u001b[0;32m----> 7\u001b[0;31m     \u001b[0mt\u001b[0m\u001b[0;34m[\u001b[0m\u001b[0;34m:\u001b[0m\u001b[0;34m,\u001b[0m\u001b[0mi\u001b[0m\u001b[0;34m]\u001b[0m \u001b[0;34m=\u001b[0m\u001b[0mtemp2\u001b[0m\u001b[0;34m\u001b[0m\u001b[0m\n\u001b[0m",
      "\u001b[0;31mValueError\u001b[0m: could not broadcast input array from shape (18491) into shape (29791)"
     ]
    }
   ],
   "source": [
    "indexyM=np.zeros((Pin_point ** (d-2),d),dtype=int)\n",
    "\n",
    "temp =np.array([i*Z_point for i in range(Pin_point)])\n",
    "for i in range(d-1):\n",
    "    temp1 = np.repeat(temp,Z_point**(d-i-2))\n",
    "    temp2 = np.tile(temp1,Z_point**i)\n",
    "    t[:,i] =temp2"
   ]
  },
  {
   "cell_type": "code",
   "execution_count": 67,
   "metadata": {},
   "outputs": [
    {
     "data": {
      "text/plain": [
       "array([  1.,   2.,   3.,   4.,   5.,   6.,   7.,   8.,   9.,  10.,  11.,\n",
       "        12.,  13.,  14.,  15.,  16.,  17.,  18.,  19.,  20.,  21.,  22.,\n",
       "        23.,  24.,  25.,  26.,  27.,  28.,  29.,  30.,  31.,  32.,  33.,\n",
       "        34.,  35.,  36.,  37.,  38.,  39.,  40.,  41.])"
      ]
     },
     "execution_count": 67,
     "metadata": {},
     "output_type": "execute_result"
    }
   ],
   "source": [
    "temp"
   ]
  },
  {
   "cell_type": "code",
   "execution_count": 51,
   "metadata": {},
   "outputs": [
    {
     "name": "stdout",
     "output_type": "stream",
     "text": [
      "0\n",
      "41\n",
      "82\n",
      "123\n",
      "164\n",
      "205\n",
      "246\n",
      "287\n",
      "328\n",
      "369\n",
      "410\n",
      "1681\n",
      "1722\n",
      "1763\n",
      "1804\n",
      "1845\n",
      "1886\n",
      "1927\n",
      "1968\n",
      "2009\n",
      "2050\n",
      "2091\n",
      "3362\n",
      "3403\n",
      "3444\n",
      "3485\n",
      "3526\n",
      "3567\n",
      "3608\n",
      "3649\n",
      "3690\n",
      "3731\n",
      "3772\n",
      "5043\n",
      "5084\n",
      "5125\n",
      "5166\n",
      "5207\n",
      "5248\n",
      "5289\n",
      "5330\n",
      "5371\n",
      "5412\n",
      "5453\n",
      "6724\n",
      "6765\n",
      "6806\n",
      "6847\n",
      "6888\n",
      "6929\n",
      "6970\n",
      "7011\n",
      "7052\n",
      "7093\n",
      "7134\n",
      "8405\n",
      "8446\n",
      "8487\n",
      "8528\n",
      "8569\n",
      "8610\n",
      "8651\n",
      "8692\n",
      "8733\n",
      "8774\n",
      "8815\n",
      "10086\n",
      "10127\n",
      "10168\n",
      "10209\n",
      "10250\n",
      "10291\n",
      "10332\n",
      "10373\n",
      "10414\n",
      "10455\n",
      "10496\n",
      "11767\n",
      "11808\n",
      "11849\n",
      "11890\n",
      "11931\n",
      "11972\n",
      "12013\n",
      "12054\n",
      "12095\n",
      "12136\n",
      "12177\n",
      "13448\n",
      "13489\n",
      "13530\n",
      "13571\n",
      "13612\n",
      "13653\n",
      "13694\n",
      "13735\n",
      "13776\n",
      "13817\n",
      "13858\n",
      "15129\n",
      "15170\n",
      "15211\n",
      "15252\n",
      "15293\n",
      "15334\n",
      "15375\n",
      "15416\n",
      "15457\n",
      "15498\n",
      "15539\n",
      "16810\n",
      "16851\n",
      "16892\n",
      "16933\n",
      "16974\n",
      "17015\n",
      "17056\n",
      "17097\n",
      "17138\n",
      "17179\n",
      "17220\n"
     ]
    }
   ],
   "source": [
    "indexy = np.zeros(Pin_point ** (d-1),dtype=int)\n",
    "for k in range (0,Pin_point):\n",
    "    for k1 in range (0,Pin_point):\n",
    "        a = [i for i in range( Z_point*Z_point*k + Z_point*k1 , Z_point*Z_point*k + Z_point*k1 + Pin_point)]\n",
    "        print(a[0])\n",
    "        indexy[ k*Pin_point*Pin_point + k1*Pin_point : k*Pin_point*Pin_point + (k1+1)*Pin_point] = a\n"
   ]
  },
  {
   "cell_type": "code",
   "execution_count": 45,
   "metadata": {},
   "outputs": [
    {
     "data": {
      "text/plain": [
       "121.0"
      ]
     },
     "execution_count": 45,
     "metadata": {},
     "output_type": "execute_result"
    }
   ],
   "source": [
    "indexy.shape[0]/Pin_point"
   ]
  },
  {
   "cell_type": "code",
   "execution_count": 5,
   "metadata": {
    "scrolled": true
   },
   "outputs": [
    {
     "name": "stdout",
     "output_type": "stream",
     "text": [
      "I am here\n",
      "0 2030150 6090450 0 (8120601,)\n",
      "I am going into cuda\n",
      "I am out of  cuda\n",
      "Prob:  [ 0.23490175  0.14351266] Sec:  55.73603916168213 inCuda  2.100482940673828\n"
     ]
    }
   ],
   "source": [
    "start = time.time()\n",
    "tmax= Pmax - tmin;\n",
    "Pin_point= int((Pmax-Pmin)/bin_size +1);\n",
    "obs_point=int((tmax-tmin)/bin_size + 1);\n",
    "Zmax=tmax;\n",
    "Zmin=tmin-Pmax;\n",
    "Z_point=int((Zmax-Zmin)/bin_size + 1);\n",
    "\n",
    "t4, t3,t2 = np.meshgrid(np.arange(tmin,tmax+0.001,bin_size), np.arange(tmin,tmax+0.001,bin_size), np.arange(tmin,tmax+0.001,bin_size));\n",
    "t2 = t2.ravel()\n",
    "t3 = t3.ravel()\n",
    "t4 = t4.ravel()\n",
    "\n",
    "tau4,tau3,tau2 = np.meshgrid(np.arange(Pmin,Pmax+0.001,bin_size), np.arange(Pmin,Pmax+0.001,bin_size), np.arange(Pmin,Pmax+0.001,bin_size));\n",
    "tau2 = tau2.ravel()\n",
    "tau3 = tau3.ravel()\n",
    "tau4 = tau4.ravel()\n",
    "\n",
    "p1s2=eq1s2(t3,t4,t2,T)\n",
    "p1s4=eq1s4(t3,t4,t2,T)\n",
    "\n",
    "f2 = pd.read_csv('savedist_4d.tsv',sep=' ', squeeze=True, header=None).values\n",
    "\n",
    "# reading indexx and indexy\n",
    "# indexy = np.load(\"indexy.npy\")\n",
    "# indexx = np.load(\"indexx.npy\")\n",
    "\n",
    "\n",
    "\n",
    "indexy = np.zeros(Pin_point ** (d-1),dtype=int)\n",
    "for k in range (0,Pin_point):\n",
    "    for k1 in range (0,Pin_point):\n",
    "        a = [i for i in range( Z_point*Z_point*k + Z_point*k1 , Z_point*Z_point*k + Z_point*k1 + Pin_point)] \n",
    "        indexy[ k*Pin_point*Pin_point + k1*Pin_point : k*Pin_point*Pin_point + (k1+1)*Pin_point] = a\n",
    "\n",
    "\n",
    "indexy = np.zeros(Pin_point ** (d-1),dtype=int)\n",
    "for k in range (0,Pin_point):\n",
    "    for k1 in range (0,Pin_point):\n",
    "        a = [i for i in range( Z_point**Z_point*k + Z_point*k1 , Z_point*Z_point*k + Z_point*k1 + Pin_point)] \n",
    "        indexy[ k*Pin_point*Pin_point + k1*Pin_point : k*Pin_point*Pin_point + (k1+1)*Pin_point] = a\n",
    "\n",
    "print(\"I am here\")\n",
    "indexy = indexy[::-1]\n",
    "\n",
    "\n",
    "indexx = np.zeros(obs_point ** 3, dtype=int)\n",
    "\n",
    "for k in range (0,obs_point): \n",
    "    for k1 in range (0,obs_point): \n",
    "        a = [i for i in range(Z_point*Z_point*k + k1*Z_point, Z_point*Z_point*k + k1*Z_point + obs_point )] \n",
    "        indexx[k*obs_point*obs_point + obs_point*k1 : k*obs_point*obs_point + (k1+1)*obs_point ] = a\n",
    "#     np.save('indexy', indexy)\n",
    "#     np.save('indexx', indexx)\n",
    "\n",
    "print(indexx[0], indexy[0], indexx[-1], indexy[-1], f2.shape)\n",
    "\n",
    "p4 = eq4(tau3,tau4,tau2,tau)\n",
    "\n",
    "print(\"I am going into cuda\")\n",
    "# cuda\n",
    "\n",
    "startC=time.time()\n",
    "d_Z = cuda.mem_alloc(np.float32(f2).nbytes)\n",
    "cuda.memcpy_htod(d_Z, np.float32(f2))\n",
    "\n",
    "d_indexx = cuda.mem_alloc(np.int32(indexx).nbytes)\n",
    "cuda.memcpy_htod(d_indexx, np.int32(indexx))\n",
    "\n",
    "d_indexy = cuda.mem_alloc(np.int32(indexy).nbytes)\n",
    "cuda.memcpy_htod(d_indexy, np.int32(indexy))\n",
    "\n",
    "d_P1S2 = cuda.mem_alloc(np.int32(p1s2).nbytes) \n",
    "cuda.memcpy_htod(d_P1S2, np.int32(p1s2))\n",
    "\n",
    "d_P1S4 = cuda.mem_alloc(np.int32(p1s4).nbytes) \n",
    "cuda.memcpy_htod(d_P1S4, np.int32(p1s4))\n",
    "\n",
    "d_P4 = cuda.mem_alloc(np.float32(p4).nbytes) \n",
    "cuda.memcpy_htod(d_P4, np.float32(p4))\n",
    "\n",
    "d_P3S2 = cuda.mem_alloc(np.float32(indexy).nbytes)\n",
    "cuda.memcpy_htod(d_P3S2, np.float32(np.zeros_like(indexy)))\n",
    "d_P3S4 = cuda.mem_alloc(np.float32(indexy).nbytes)\n",
    "cuda.memcpy_htod(d_P3S4, np.float32(np.zeros_like(indexy))) \n",
    "\n",
    "func = mod.get_function(\"doIndexy\")\n",
    "\n",
    "blocksize = 128\n",
    "gridsize = math.floor(len(indexy)/blocksize)\n",
    "func(d_Z, d_indexx, d_indexy, d_P1S2, d_P1S4,d_P4, d_P3S2, d_P3S4, np.int32(len(p1s2)),np.int32(len(p4)), block=(blocksize,1,1), grid =(gridsize,1,1))\n",
    "\n",
    "cuda.Context.synchronize()\n",
    "\n",
    "h_test_outs2 = np.empty_like(np.float32(p4))\n",
    "h_test_outs4 = np.empty_like(np.float32(p4))\n",
    "cuda.memcpy_dtoh(h_test_outs2, d_P3S2)\n",
    "cuda.memcpy_dtoh(h_test_outs4, d_P3S4)\n",
    "\n",
    "cuda.Context.synchronize()\n",
    "\n",
    "print(\"I am out of  cuda\")\n",
    "\n",
    "p=np.empty(2)\n",
    "p[0] = bin_size**(d-1)*np.sum( h_test_outs2)\n",
    "p[1] = bin_size**(d-1)*np.sum( h_test_outs4)\n",
    "\n",
    "filename = \"testfile\" + str(mu) + str (lamda) +str(T) +str (tau)\n",
    "file = open(filename,\"w\") \n",
    "file.write(str(p))\n",
    "file.close() \n",
    "print(\"Prob: \", p, \"Sec: \", time.time() - start, \"inCuda \", time.time()- startC)"
   ]
  },
  {
   "cell_type": "raw",
   "metadata": {},
   "source": [
    "mainfn(0.1, 0, 5, -5, 1, 1, 1, 1)\n",
    "\n",
    "if __name__== \"__main__\":\n",
    "  mainfn(float(sys.argv[1]), float(sys.argv[2]),float(sys.argv[3]),float(sys.argv[4]),float(sys.argv[5]),float(sys.argv[6]),float(sys.argv[7]),float(sys.argv[8]))"
   ]
  },
  {
   "cell_type": "raw",
   "metadata": {},
   "source": [
    "if __name__== \"__main__\":\n",
    "  mainfn(float(sys.argv[1]), float(sys.argv[2]),float(sys.argv[3]),float(sys.argv[4]),float(sys.argv[5]),float(sys.argv[6]),float(sys.argv[7]),float(sys.argv[8]))"
   ]
  }
 ],
 "metadata": {
  "kernelspec": {
   "display_name": "Python 3",
   "language": "python",
   "name": "python3"
  },
  "language_info": {
   "codemirror_mode": {
    "name": "ipython",
    "version": 3
   },
   "file_extension": ".py",
   "mimetype": "text/x-python",
   "name": "python",
   "nbconvert_exporter": "python",
   "pygments_lexer": "ipython3",
   "version": "3.6.4"
  },
  "varInspector": {
   "cols": {
    "lenName": 16,
    "lenType": 16,
    "lenVar": 40
   },
   "kernels_config": {
    "python": {
     "delete_cmd_postfix": "",
     "delete_cmd_prefix": "del ",
     "library": "var_list.py",
     "varRefreshCmd": "print(var_dic_list())"
    },
    "r": {
     "delete_cmd_postfix": ") ",
     "delete_cmd_prefix": "rm(",
     "library": "var_list.r",
     "varRefreshCmd": "cat(var_dic_list()) "
    }
   },
   "position": {
    "height": "787px",
    "left": "1494px",
    "right": "-121.167px",
    "top": "74px",
    "width": "323px"
   },
   "types_to_exclude": [
    "module",
    "function",
    "builtin_function_or_method",
    "instance",
    "_Feature"
   ],
   "window_display": true
  }
 },
 "nbformat": 4,
 "nbformat_minor": 2
}
