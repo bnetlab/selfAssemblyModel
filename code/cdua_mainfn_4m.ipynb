{
 "cells": [
  {
   "cell_type": "code",
   "execution_count": 1,
   "metadata": {},
   "outputs": [],
   "source": [
    "import numpy as np\n",
    "import pandas as pd\n",
    "import scipy as sp\n",
    "import math\n",
    "import pycuda.autoinit\n",
    "import pycuda.driver as cuda\n",
    "from pycuda.compiler import SourceModule\n",
    "\n",
    "import time"
   ]
  },
  {
   "cell_type": "code",
   "execution_count": 2,
   "metadata": {},
   "outputs": [],
   "source": [
    "mod = SourceModule(\"\"\"\n",
    "    # include <stdio.h>\n",
    "    \n",
    "    #define N 1000\n",
    "    \n",
    "    \n",
    "    __global__ void doIndexy(float *Z, int *indexx, int *indexy, int *P1, float *P3, int total )\n",
    "    { \n",
    "        \n",
    "        int idx = blockIdx.x * blockDim.x + threadIdx.x; \n",
    "\n",
    "        if(idx >= total){\n",
    "            return;\n",
    "        }\n",
    "        //printf(\"%d\\\\n\", total);\n",
    "        float sum = 0;\n",
    "        int j = indexy[idx]; \n",
    "        for (int i = 0; i < total ; i++){\n",
    "           if(Z[indexx[i]+j-1]>0.f){\n",
    "               sum += 0.1*0.1*0.1 * Z[indexx[i]+j-1] * P1[i];\n",
    "           }\n",
    "           \n",
    "           \n",
    "        }; \n",
    "        //printf(\"%d\\t%f\\t%f\\t%d\\t%d\\t%d%d\\\\n\",idx,sum,Z[195040],indexx[0], indexy[0],P1[0],total);\n",
    "        P3[idx] = sum; \n",
    "        \n",
    "        //printf (\"%d:::::::\\\\t\", idx);\n",
    "       \n",
    "    }\"\"\")"
   ]
  },
  {
   "cell_type": "code",
   "execution_count": 3,
   "metadata": {},
   "outputs": [],
   "source": [
    "# calculate equation 1\n",
    "def eq1(t2,t3,t4,T):\n",
    "    a=np.empty(len(t4))\n",
    "    for i in range(0,len(t4)):\n",
    "        arr = np.array([t2[i],t3[i],t4[i],0])\n",
    "        arr = np.sort(arr, axis=None)\n",
    "        a[i]=1- np.heaviside (np.absolute(arr[3] -arr[1])- T, 0)\n",
    "    return a"
   ]
  },
  {
   "cell_type": "code",
   "execution_count": 4,
   "metadata": {},
   "outputs": [],
   "source": [
    "# for N=3 \n",
    "def eq4(a,b,c,tau=1):\n",
    "    ps = np.empty(len(a))\n",
    "    for i in range(len(a)):\n",
    "        if(b[i] >= a[i]) and (c[i]>=a[i]) and (c[i] >= b[i]):\n",
    "            ps[i] = (1/tau**3)*(math.exp(-1*c[i]/tau))\n",
    "        else: \n",
    "            ps[i] = 0\n",
    "    return ps"
   ]
  },
  {
   "cell_type": "code",
   "execution_count": null,
   "metadata": {},
   "outputs": [],
   "source": [
    "# parameter\n",
    "tau=1;\n",
    "T=1;\n",
    "mu=1.0;\n",
    "lamda=1.0;\n",
    "bin_size=0.10;\n",
    "Pmin=0;\n",
    "Pmax=15;\n",
    "tmin=-10;\n",
    "tmax=Pmax - tmin;"
   ]
  },
  {
   "cell_type": "code",
   "execution_count": null,
   "metadata": {},
   "outputs": [],
   "source": [
    "start = time.time()\n",
    "Pin_point= int((Pmax-Pmin)/bin_size +1);\n",
    "obs_point=int((tmax-tmin)/bin_size + 1);\n",
    "Zmax=tmax;\n",
    "Zmin=tmin-Pmax;\n",
    "Z_point=int((Zmax-Zmin)/bin_size + 1);\n",
    "\n",
    "t4, t3,t2 = np.meshgrid(np.arange(tmin,tmax+0.001,bin_size), np.arange(tmin,tmax+0.001,bin_size), np.arange(tmin,tmax+0.001,bin_size));\n",
    "t2 = t2.ravel()\n",
    "t3 = t3.ravel()\n",
    "t4 = t4.ravel()\n",
    "\n",
    "tau4,tau3,tau2 = np.meshgrid(np.arange(Pmin,Pmax+0.001,bin_size), np.arange(Pmin,Pmax+0.001,bin_size), np.arange(Pmin,Pmax+0.001,bin_size));\n",
    "tau2 = tau2.ravel()\n",
    "tau3 = tau3.ravel()\n",
    "tau4 = tau4.ravel()\n",
    "\n",
    "p1=eq1(t3,t4,t2,T)\n",
    "\n",
    "f2 = pd.read_csv('savedist_4d.tsv',sep=' ',squeeze=True,header=None).values\n",
    "\n",
    "# for 4\n",
    "indexy = np.array([],dtype=int)\n",
    "for k in range (1,Pin_point+1):\n",
    "    for k1 in range (1,Pin_point+1):\n",
    "        a = [i for i in range(1+(Z_point*Z_point*(k-1))+(Z_point*(k1-1)),Pin_point+1+(Z_point*Z_point*(k-1))+(Z_point*(k1-1)))] \n",
    "        indexy =np.append(indexy,a)\n",
    "        \n",
    "indexx = np.array([],dtype=int)\n",
    "for k in range (0,obs_point): \n",
    "    for k1 in range (0,obs_point): \n",
    "        a = [i for i in range(Z_point*Z_point*(k)+k1*(Z_point),Z_point*Z_point*(k)+k1*Z_point+obs_point)] \n",
    "        indexx =np.append(indexx,a)\n",
    "\n",
    "# p3=np.zeros(len(tau2));\n",
    "# for i in range(0,len(tau2)):\n",
    "#     p2=f2[indexx+indexy[i]-1]\n",
    "#     p3[i]=bin_size*bin_size*bin_size*np.sum(np.multiply(p1,p2));\n",
    "\n",
    "p4 = eq4(tau3,tau4,tau2,tau)\n",
    "\n",
    "# p = bin_size*bin_size*bin_size*np.sum(np.multiply(p4,p3))\n",
    "# print(\"Prob: \", p, \"Sec: \", time.time() - start)"
   ]
  },
  {
   "cell_type": "code",
   "execution_count": null,
   "metadata": {},
   "outputs": [],
   "source": [
    "tau2"
   ]
  },
  {
   "cell_type": "code",
   "execution_count": null,
   "metadata": {},
   "outputs": [],
   "source": [
    "tau3[0:200]"
   ]
  },
  {
   "cell_type": "code",
   "execution_count": null,
   "metadata": {},
   "outputs": [],
   "source": [
    "tau4[0:200]"
   ]
  },
  {
   "cell_type": "code",
   "execution_count": null,
   "metadata": {},
   "outputs": [],
   "source": [
    "indexx.shape"
   ]
  },
  {
   "cell_type": "code",
   "execution_count": null,
   "metadata": {},
   "outputs": [],
   "source": [
    "indexy.shape"
   ]
  },
  {
   "cell_type": "code",
   "execution_count": null,
   "metadata": {},
   "outputs": [],
   "source": [
    "startC=time.time()\n",
    "d_Z = cuda.mem_alloc(np.float32(f2).nbytes)\n",
    "cuda.memcpy_htod(d_Z, np.float32(f2))\n",
    "\n",
    "d_indexx = cuda.mem_alloc(np.int32(indexx).nbytes)\n",
    "cuda.memcpy_htod(d_indexx, np.int32(indexx))\n",
    "\n",
    "d_indexy = cuda.mem_alloc(np.int32(indexy).nbytes)\n",
    "cuda.memcpy_htod(d_indexy, np.int32(indexy))\n",
    "\n",
    "d_P1 = cuda.mem_alloc(np.int32(p1).nbytes) \n",
    "cuda.memcpy_htod(d_P1, np.int32(p1))\n",
    "\n",
    "d_P3 = cuda.mem_alloc(np.float32(indexy).nbytes) "
   ]
  },
  {
   "cell_type": "code",
   "execution_count": null,
   "metadata": {},
   "outputs": [],
   "source": [
    "func = mod.get_function(\"doIndexy\")\n",
    "\n",
    "blocksize = 128\n",
    "gridsize = math.floor(len(indexy)/blocksize)+1\n",
    "func(d_Z, d_indexx, d_indexy, d_P1, d_P3, np.int32(len(p1)),  block=(blocksize,1,1), grid =(gridsize,1,1))\n",
    "\n",
    "h_test_out = np.zeros(len(indexy), np.float32)\n",
    "cuda.memcpy_dtoh(h_test_out, d_P3)\n",
    "\n",
    "cuda.Context.synchronize()\n",
    "\n",
    "p = bin_size*bin_size*bin_size*np.sum(np.multiply( p4, h_test_out))\n",
    "print(\"Prob: \", p, \"Sec: \", time.time() - start, \"inCuda \", time.time()- startC)\n"
   ]
  },
  {
   "cell_type": "code",
   "execution_count": null,
   "metadata": {},
   "outputs": [],
   "source": []
  }
 ],
 "metadata": {
  "kernelspec": {
   "display_name": "Python 3",
   "language": "python",
   "name": "python3"
  },
  "language_info": {
   "codemirror_mode": {
    "name": "ipython",
    "version": 3
   },
   "file_extension": ".py",
   "mimetype": "text/x-python",
   "name": "python",
   "nbconvert_exporter": "python",
   "pygments_lexer": "ipython3",
   "version": "3.6.4"
  },
  "varInspector": {
   "cols": {
    "lenName": 16,
    "lenType": 16,
    "lenVar": 40
   },
   "kernels_config": {
    "python": {
     "delete_cmd_postfix": "",
     "delete_cmd_prefix": "del ",
     "library": "var_list.py",
     "varRefreshCmd": "print(var_dic_list())"
    },
    "r": {
     "delete_cmd_postfix": ") ",
     "delete_cmd_prefix": "rm(",
     "library": "var_list.r",
     "varRefreshCmd": "cat(var_dic_list()) "
    }
   },
   "position": {
    "height": "787px",
    "left": "1503px",
    "right": "24px",
    "top": "116px",
    "width": "323px"
   },
   "types_to_exclude": [
    "module",
    "function",
    "builtin_function_or_method",
    "instance",
    "_Feature"
   ],
   "window_display": true
  }
 },
 "nbformat": 4,
 "nbformat_minor": 2
}
