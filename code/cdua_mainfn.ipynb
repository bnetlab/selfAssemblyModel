{
 "cells": [
  {
   "cell_type": "code",
   "execution_count": null,
   "metadata": {},
   "outputs": [],
   "source": [
    "import numpy as np\n",
    "import pandas as pd\n",
    "import scipy as sp\n",
    "import math\n",
    "import pycuda.autoinit\n",
    "import pycuda.driver as cuda\n",
    "from pycuda.compiler import SourceModule\n",
    "\n",
    "import time"
   ]
  },
  {
   "cell_type": "code",
   "execution_count": 49,
   "metadata": {},
   "outputs": [],
   "source": [
    "# calculate equation 1\n",
    "def eq1(t2,t3,T):\n",
    "    i=0\n",
    "    a=np.empty(len(t2))\n",
    "    while (i<= len(t2)): \n",
    "        if (t2[i] >=0  and t3[i] >=0) or (t2[i] <0 and t3[i] < 0):\n",
    "            a[i]=1- np.heaviside (np.abs (t3[i] -t2[i])- T, 0);\n",
    "        if (t2[i] <0 and t3[i] >=0):\n",
    "            a[i]=1- np.heaviside (t3[i]- T);\n",
    "        if (t2[i] >= 0 and t3[i] < 0):\n",
    "            a[i]= 1- np.heaviside (t2[i] - T);\n",
    "        i=i+1; \n",
    "        return a\n"
   ]
  },
  {
   "cell_type": "code",
   "execution_count": 18,
   "metadata": {},
   "outputs": [],
   "source": [
    "# for N=3 \n",
    "def eq4(a,b,tau=1):\n",
    "    ps = np.empty(len(a))\n",
    "    for i in range(len(a)):\n",
    "        if(b[i] >= a[i]):\n",
    "            ps[i] = (1/tau**2)*(math.exp(-1*b[i]/tau))\n",
    "        else: \n",
    "            ps[i] = 0\n",
    "    return ps"
   ]
  },
  {
   "cell_type": "code",
   "execution_count": 32,
   "metadata": {},
   "outputs": [],
   "source": [
    "# for 4\n",
    "indexy = np.array([],dtype=int)\n",
    "for k in range (1,Pin_point+1):\n",
    "    for k1 in range (1,Pin_point+1):\n",
    "        a = [i for i in range(1+(Z_point*Z_point*(k-1))+(Z_point*(k1-1)),Pin_point+1+(Z_point*Z_point*(k-1))+(Z_point*(k1-1)))] ### possible index error\n",
    "        indexy =np.append(indexy,a)\n",
    "        \n",
    "indexx = np.array([],dtype=int)\n",
    "for k in range (0,obs_point): \n",
    "    for k1 in range (0,obs_point): \n",
    "        a = [i for i in range(Z_point*Z_point*(k)+k1*(Z_point),Z_point*Z_point*(k)+k1*Z_point+obs_point)] ### possible index error\n",
    "        indexx =np.append(indexx,a)"
   ]
  },
  {
   "cell_type": "code",
   "execution_count": 3,
   "metadata": {},
   "outputs": [],
   "source": [
    "# parameter\n",
    "tau=1;\n",
    "T=1;\n",
    "mu=1.0;\n",
    "lamda=1.0;\n",
    "bin_size=0.10;\n",
    "Pmin=0;\n",
    "Pmax=20;\n",
    "tmin=-10;\n",
    "tmax=30;"
   ]
  },
  {
   "cell_type": "code",
   "execution_count": 29,
   "metadata": {},
   "outputs": [],
   "source": [
    "Pin_point= int((Pmax-Pmin)/bin_size +1);\n",
    "obs_point=int((tmax-tmin)/bin_size + 1);\n",
    "Zmax=tmax;\n",
    "Zmin=tmin-Pmax;\n",
    "Z_point=int((Zmax-Zmin)/bin_size + 1);"
   ]
  },
  {
   "cell_type": "code",
   "execution_count": 58,
   "metadata": {},
   "outputs": [],
   "source": [
    "t2,t3 = np.meshgrid(np.arange(tmin,tmax+0.001,bin_size), np.arange(tmin,tmax+0.001,bin_size));\n",
    "t2 = t2.ravel()\n",
    "t3 = t3.ravel()\n",
    "\n",
    "tau2,tau3 = np.meshgrid(np.arange(Pmin,Pmax+0.001,bin_size), np.arange(Pmin,Pmax+0.001,bin_size));\n",
    "tau2 = tau2.ravel()\n",
    "tau3 = tau3.ravel()"
   ]
  },
  {
   "cell_type": "code",
   "execution_count": 50,
   "metadata": {},
   "outputs": [],
   "source": [
    "p1=eq1(t2,t3,T)"
   ]
  },
  {
   "cell_type": "code",
   "execution_count": 52,
   "metadata": {},
   "outputs": [],
   "source": [
    "f2 = pd.read_csv('savedist_3d.tsv',sep=' ',squeeze=True,header=None).values"
   ]
  },
  {
   "cell_type": "code",
   "execution_count": 70,
   "metadata": {},
   "outputs": [],
   "source": [
    "# for 3\n",
    "indexy = np.array([],dtype=int)\n",
    "for k in range (1,Pin_point+1):\n",
    "    a = [i for i in range(1+(Z_point*(k-1)),Pin_point+1+(Z_point*(k-1)))] ### possible index error\n",
    "    indexy =np.append(indexy,a)\n",
    "        \n",
    "indexx = np.array([],dtype=int)\n",
    "for k in range (0,obs_point): \n",
    "    a = [i for i in range(Z_point*(k), k*Z_point+obs_point)] ### possible index error\n",
    "    indexx =np.append(indexx,a)\n"
   ]
  },
  {
   "cell_type": "code",
   "execution_count": 71,
   "metadata": {},
   "outputs": [
    {
     "ename": "IndexError",
     "evalue": "index 361201 is out of bounds for axis 1 with size 361201",
     "output_type": "error",
     "traceback": [
      "\u001b[0;31m---------------------------------------------------------------------------\u001b[0m",
      "\u001b[0;31mIndexError\u001b[0m                                Traceback (most recent call last)",
      "\u001b[0;32m<ipython-input-71-6deb5993ea6d>\u001b[0m in \u001b[0;36m<module>\u001b[0;34m()\u001b[0m\n\u001b[1;32m      1\u001b[0m \u001b[0mp3\u001b[0m\u001b[0;34m=\u001b[0m\u001b[0mnp\u001b[0m\u001b[0;34m.\u001b[0m\u001b[0mzeros\u001b[0m\u001b[0;34m(\u001b[0m\u001b[0mlen\u001b[0m\u001b[0;34m(\u001b[0m\u001b[0mtau2\u001b[0m\u001b[0;34m)\u001b[0m\u001b[0;34m)\u001b[0m\u001b[0;34m;\u001b[0m\u001b[0;34m\u001b[0m\u001b[0m\n\u001b[1;32m      2\u001b[0m \u001b[0;32mfor\u001b[0m \u001b[0mi\u001b[0m \u001b[0;32min\u001b[0m \u001b[0mrange\u001b[0m\u001b[0;34m(\u001b[0m\u001b[0;36m0\u001b[0m\u001b[0;34m,\u001b[0m\u001b[0mlen\u001b[0m\u001b[0;34m(\u001b[0m\u001b[0mtau2\u001b[0m\u001b[0;34m)\u001b[0m\u001b[0;34m)\u001b[0m\u001b[0;34m:\u001b[0m\u001b[0;34m\u001b[0m\u001b[0m\n\u001b[0;32m----> 3\u001b[0;31m     \u001b[0mp2\u001b[0m\u001b[0;34m=\u001b[0m\u001b[0mf2\u001b[0m\u001b[0;34m[\u001b[0m\u001b[0mindexx\u001b[0m\u001b[0;34m+\u001b[0m\u001b[0mindexy\u001b[0m\u001b[0;34m[\u001b[0m\u001b[0mi\u001b[0m\u001b[0;34m]\u001b[0m\u001b[0;34m]\u001b[0m\u001b[0;34m\u001b[0m\u001b[0m\n\u001b[0m\u001b[1;32m      4\u001b[0m     \u001b[0mp3\u001b[0m\u001b[0;34m[\u001b[0m\u001b[0mi\u001b[0m\u001b[0;34m]\u001b[0m\u001b[0;34m=\u001b[0m\u001b[0mbin_size\u001b[0m\u001b[0;34m*\u001b[0m\u001b[0mbin_size\u001b[0m\u001b[0;34m*\u001b[0m\u001b[0mnp\u001b[0m\u001b[0;34m.\u001b[0m\u001b[0msum\u001b[0m\u001b[0;34m(\u001b[0m\u001b[0mnp\u001b[0m\u001b[0;34m.\u001b[0m\u001b[0mmultiply\u001b[0m\u001b[0;34m(\u001b[0m\u001b[0mp1\u001b[0m\u001b[0;34m,\u001b[0m\u001b[0mp2\u001b[0m\u001b[0;34m)\u001b[0m\u001b[0;34m)\u001b[0m\u001b[0;34m;\u001b[0m\u001b[0;34m\u001b[0m\u001b[0m\n\u001b[1;32m      5\u001b[0m \u001b[0mend\u001b[0m\u001b[0;34m\u001b[0m\u001b[0m\n",
      "\u001b[0;31mIndexError\u001b[0m: index 361201 is out of bounds for axis 1 with size 361201"
     ]
    }
   ],
   "source": [
    "p3=np.zeros(len(tau2));\n",
    "for i in range(0,len(tau2)):\n",
    "    p2=f2[indexx+indexy[i]]\n",
    "    p3[i]=bin_size*bin_size*np.sum(np.multiply(p1,p2));\n",
    "end"
   ]
  },
  {
   "cell_type": "code",
   "execution_count": null,
   "metadata": {},
   "outputs": [],
   "source": [
    "f2.shape"
   ]
  },
  {
   "cell_type": "code",
   "execution_count": null,
   "metadata": {},
   "outputs": [],
   "source": [
    "p = bin_size*bin_size*np.sum(np.multiply(p4,p3))"
   ]
  }
 ],
 "metadata": {
  "kernelspec": {
   "display_name": "Python 3",
   "language": "python",
   "name": "python3"
  },
  "language_info": {
   "codemirror_mode": {
    "name": "ipython",
    "version": 3
   },
   "file_extension": ".py",
   "mimetype": "text/x-python",
   "name": "python",
   "nbconvert_exporter": "python",
   "pygments_lexer": "ipython3",
   "version": "3.6.4"
  }
 },
 "nbformat": 4,
 "nbformat_minor": 2
}
