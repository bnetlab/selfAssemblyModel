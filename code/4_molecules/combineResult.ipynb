{
 "cells": [
  {
   "cell_type": "code",
   "execution_count": 1,
   "metadata": {},
   "outputs": [],
   "source": [
    "import numpy as np\n",
    "import pandas as pd\n",
    "import re"
   ]
  },
  {
   "cell_type": "code",
   "execution_count": 2,
   "metadata": {},
   "outputs": [
    {
     "name": "stdout",
     "output_type": "stream",
     "text": [
      "  0               1               2               3                 4  \\\n",
      "0    1.00000000e+00  2.00000000e+00  4.00000000e+00  1.50000000e+00\\n   \n",
      "\n",
      "                5              6  \n",
      "0  7.49582153e-01  1.70505869e-0  \n",
      "  0               1               2               3                 4  \\\n",
      "0    1.00000000e+00  1.00000000e+00  4.00000000e+00  1.50000000e+00\\n   \n",
      "\n",
      "                5              6  \n",
      "0  7.17121826e-01  3.17491055e-0  \n",
      "  0               1               2               3                 4  \\\n",
      "0    1.00000000e+00  2.00000000e+00  4.00000000e+00  1.00000000e+00\\n   \n",
      "\n",
      "                5              6  \n",
      "0  9.42358276e-01  3.55338901e-0  \n",
      "  0               1               2               3                 4  \\\n",
      "0    1.00000000e+00  1.00000000e+00  4.00000000e+00  1.00000000e+00\\n   \n",
      "\n",
      "                5              6  \n",
      "0  8.97797791e-01  9.19320524e-0  \n"
     ]
    }
   ],
   "source": [
    "df= pd.DataFrame(columns=['mu', 'lambda', 'T', 'tau', 'S2', 'S4'])\n",
    "import glob\n",
    "import errno\n",
    "path = '/home/ranap/selfAssemblyModel/code/result2/*'\n",
    "files = glob.glob(path)\n",
    "for name in files:\n",
    "    try:\n",
    "        with open(name) as f:\n",
    "            data=f.read()\n",
    "            da = pd.DataFrame(re.sub(' +', ' ', data[2:-1]).split(' ')).T\n",
    "            if da.shape[1] == 6:\n",
    "                \n",
    "                da.columns = ['mu', 'lambda', 'T', 'tau', 'S2', 'S4']\n",
    "                df = pd.concat([df,da])\n",
    "            if da.shape[1]==7:\n",
    "                da = pd.DataFrame(re.sub(' +', ' ', data[2:-2]).split(' ')).T\n",
    "                if da.shape[1]==6:\n",
    "                    da.columns = ['mu', 'lambda', 'T', 'tau', 'S2', 'S4']\n",
    "                    df = pd.concat([df,da])\n",
    "                else:\n",
    "                    print(da)\n",
    "    except IOError as exc:\n",
    "        if exc.errno != errno.EISDIR:\n",
    "            raise"
   ]
  },
  {
   "cell_type": "code",
   "execution_count": 5,
   "metadata": {},
   "outputs": [],
   "source": [
    "df = df.sort_values(by=['mu', 'lambda','tau', 'T'])"
   ]
  },
  {
   "cell_type": "code",
   "execution_count": 6,
   "metadata": {},
   "outputs": [],
   "source": [
    "df.to_csv ('result_bin0.05_range_10_10.csv', index=None)"
   ]
  },
  {
   "cell_type": "code",
   "execution_count": null,
   "metadata": {},
   "outputs": [],
   "source": []
  }
 ],
 "metadata": {
  "kernelspec": {
   "display_name": "Python 3",
   "language": "python",
   "name": "python3"
  },
  "language_info": {
   "codemirror_mode": {
    "name": "ipython",
    "version": 3
   },
   "file_extension": ".py",
   "mimetype": "text/x-python",
   "name": "python",
   "nbconvert_exporter": "python",
   "pygments_lexer": "ipython3",
   "version": "3.6.4"
  }
 },
 "nbformat": 4,
 "nbformat_minor": 2
}
