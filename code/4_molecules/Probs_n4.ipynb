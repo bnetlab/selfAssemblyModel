{
 "cells": [
  {
   "cell_type": "code",
   "execution_count": 2,
   "metadata": {},
   "outputs": [],
   "source": [
    "import numpy as np\n",
    "import pandas as pd\n",
    "import math\n",
    "import pycuda.autoinit\n",
    "import pycuda.driver as cuda\n",
    "from pycuda.compiler import SourceModule"
   ]
  },
  {
   "cell_type": "code",
   "execution_count": 2,
   "metadata": {},
   "outputs": [],
   "source": [
    "%matplotlib inline  "
   ]
  },
  {
   "cell_type": "code",
   "execution_count": 3,
   "metadata": {},
   "outputs": [
    {
     "name": "stderr",
     "output_type": "stream",
     "text": [
      "/home/ranap/anaconda3/envs/tensorflow/lib/python3.6/site-packages/ipykernel_launcher.py:32: UserWarning: The CUDA compiler succeeded, but said the following:\n",
      "kernel.cu(13): warning: variable \"t\" was declared but never referenced\n",
      "\n",
      "\n",
      "/home/ranap/anaconda3/envs/tensorflow/lib/python3.6/site-packages/ipykernel_launcher.py:63: UserWarning: The CUDA compiler succeeded, but said the following:\n",
      "kernel.cu(9): warning: variable \"t\" was declared but never referenced\n",
      "\n",
      "\n"
     ]
    }
   ],
   "source": [
    "mod = SourceModule(\"\"\"\n",
    "    #define N 1000\n",
    "    \n",
    "    \n",
    "  \n",
    "    \n",
    "    \n",
    "    __global__ void doIndexy(float *Z, int *indexx, int *indexy, float *pin, float *PYX,int total )\n",
    "    { \n",
    "        \n",
    "        int idx = blockIdx.x * blockDim.x + threadIdx.x; //this is actually j in indexy\n",
    "        int t = 0; \n",
    "        if(idx >= total){\n",
    "            return;\n",
    "        }\n",
    "        //printf(\"%d/n\", total);\n",
    "        float sum = 0;\n",
    "        int j = indexy[idx]; \n",
    "        for (int i = 0; i < total ;i++){\n",
    "           if(Z[indexx[i]+j-1]!=0.f){\n",
    "               sum += 0.10*0.10*0.10*Z[indexx[i]+j-1]*log2(Z[indexx[i]+j-1]);\n",
    "           }\n",
    "           \n",
    "           //printf(\"%d\\\\n\", Z[0]);\n",
    "        }; \n",
    "        //printf(\"%f/n\", sum);\n",
    "        PYX[idx] = sum; \n",
    "        \n",
    "        //printf (\"%d:::::::\\\\t\", idx);\n",
    "       \n",
    "       // in[idx*(d+1)+5]=integral(in[idx*(d+1)+0],in[idx*(d+1)+1], in[idx*(d+1)+2], in[idx*(d+1)+3], in[idx*(d+1)+4]);\n",
    "    }\"\"\")\n",
    "mod2 = SourceModule(\"\"\"\n",
    "\n",
    "    __global__ void doIndexx(float *Z, int *indexx, int *indexy, float *pin, float *PY,int total )\n",
    "    { \n",
    "        \n",
    "        int idx = blockIdx.x * blockDim.x + threadIdx.x; //this is actually j in indexy\n",
    "        //printf(\"%d\\\\n\", idx);\n",
    "        int t = 0; \n",
    "        //if(idx >= total){\n",
    "          //  return;\n",
    "        //}\n",
    "        //printf(\"%d/n\", total);\n",
    "       float sum = 0;\n",
    "       int j = indexx[idx]; \n",
    "       for (int i = 0; i < total ;i++){\n",
    "           //if(Z[indexy[i]+j-1]!=0.f){\n",
    "         sum += 0.10*0.10*0.10*Z[indexy[i]+j-1]*pin[i];\n",
    "               \n",
    "               \n",
    "           //}\n",
    "           \n",
    "           //printf(\"%d\\\\n\", Z[0]);\n",
    "        }; \n",
    "        //printf(\"%f/n\", sum);\n",
    "        PY[idx] = sum; \n",
    "        //PY[idx] = idx; \n",
    "        \n",
    "        //printf (\"%d:::::::\\\\t\", idx);\n",
    "       \n",
    "       // in[idx*(d+1)+5]=integral(in[idx*(d+1)+0],in[idx*(d+1)+1], in[idx*(d+1)+2], in[idx*(d+1)+3], in[idx*(d+1)+4]);\n",
    "    }\"\"\")\n"
   ]
  },
  {
   "cell_type": "code",
   "execution_count": 4,
   "metadata": {},
   "outputs": [],
   "source": [
    "# In[3]:\n",
    "# for benchmark\n",
    "start = cuda.Event()\n",
    "end = cuda.Event()"
   ]
  },
  {
   "cell_type": "code",
   "execution_count": 5,
   "metadata": {},
   "outputs": [],
   "source": [
    "funcxy = mod.get_function(\"doIndexy\")\n",
    "funcxx = mod2.get_function(\"doIndexx\")"
   ]
  },
  {
   "cell_type": "code",
   "execution_count": 6,
   "metadata": {},
   "outputs": [],
   "source": [
    "inP_point=21\n",
    "obs_point=61\n",
    "Z_point=81\n",
    "bbin = 0.10\n"
   ]
  },
  {
   "cell_type": "code",
   "execution_count": 7,
   "metadata": {},
   "outputs": [],
   "source": [
    "# Z = np.random.randn(25,3)\n",
    "# Z = np.abs(Z)"
   ]
  },
  {
   "cell_type": "code",
   "execution_count": 1,
   "metadata": {},
   "outputs": [
    {
     "ename": "NameError",
     "evalue": "name 'pd' is not defined",
     "output_type": "error",
     "traceback": [
      "\u001b[0;31m---------------------------------------------------------------------------\u001b[0m",
      "\u001b[0;31mNameError\u001b[0m                                 Traceback (most recent call last)",
      "\u001b[0;32m<ipython-input-1-f3f92fdda77e>\u001b[0m in \u001b[0;36m<module>\u001b[0;34m()\u001b[0m\n\u001b[0;32m----> 1\u001b[0;31m \u001b[0mf2\u001b[0m \u001b[0;34m=\u001b[0m \u001b[0mpd\u001b[0m\u001b[0;34m.\u001b[0m\u001b[0mread_csv\u001b[0m\u001b[0;34m(\u001b[0m\u001b[0;34m'input/savedist_4d_4_10.tsv'\u001b[0m\u001b[0;34m,\u001b[0m\u001b[0msep\u001b[0m\u001b[0;34m=\u001b[0m\u001b[0;34m' '\u001b[0m\u001b[0;34m,\u001b[0m\u001b[0msqueeze\u001b[0m\u001b[0;34m=\u001b[0m\u001b[0;32mTrue\u001b[0m\u001b[0;34m,\u001b[0m\u001b[0mheader\u001b[0m\u001b[0;34m=\u001b[0m\u001b[0;32mNone\u001b[0m\u001b[0;34m)\u001b[0m\u001b[0;34m.\u001b[0m\u001b[0mvalues\u001b[0m\u001b[0;34m\u001b[0m\u001b[0m\n\u001b[0m",
      "\u001b[0;31mNameError\u001b[0m: name 'pd' is not defined"
     ]
    }
   ],
   "source": [
    "f2 = pd.read_csv('input/savedist_4d_4_10.tsv',sep=' ',squeeze=True,header=None).values"
   ]
  },
  {
   "cell_type": "code",
   "execution_count": null,
   "metadata": {},
   "outputs": [],
   "source": []
  },
  {
   "cell_type": "code",
   "execution_count": 9,
   "metadata": {},
   "outputs": [],
   "source": [
    "# for N=3 \n",
    "def in_dist(a,b,tau=1):\n",
    "    ps = np.empty(len(a))\n",
    "    for i in range(len(a)):\n",
    "        if(b[i] >= a[i]):\n",
    "            ps[i] = (1/tau**2)*(math.exp(-1*b[i]/tau))\n",
    "        else: \n",
    "            ps[i] = 0\n",
    "    return ps\n",
    "            "
   ]
  },
  {
   "cell_type": "code",
   "execution_count": 10,
   "metadata": {},
   "outputs": [],
   "source": [
    "# for N=4\n",
    "def in_dist4(a,b,c,tau=0.5):\n",
    "    ps = np.empty(len(a))\n",
    "    for i in range(len(a)):\n",
    "        if(b[i] >= a[i] and c[i] >= a[i] and c[i] >= b[i]):\n",
    "            ps[i] = (1/tau**3)*(math.exp(-1*c[i]/tau))\n",
    "        else: \n",
    "            ps[i] = 0\n",
    "    return ps"
   ]
  },
  {
   "cell_type": "code",
   "execution_count": 11,
   "metadata": {},
   "outputs": [],
   "source": [
    "x, y ,z = np.meshgrid([x for x in np.arange(0,inP_point*bbin,bbin)],[x for x in np.arange(0,inP_point*bbin,bbin)] ,[x for x in np.arange(0,inP_point*bbin,bbin)])\n",
    "# x, y = np.meshgrid([x for x in np.arange(0,2,1)],[x for x in np.arange(0,2,1)])"
   ]
  },
  {
   "cell_type": "code",
   "execution_count": 12,
   "metadata": {},
   "outputs": [],
   "source": [
    "t = y \n",
    "y = np.reshape(x,-1)\n",
    "x =np.reshape(t,-1)"
   ]
  },
  {
   "cell_type": "code",
   "execution_count": 13,
   "metadata": {},
   "outputs": [],
   "source": [
    "x = np.reshape(x,-1)\n",
    "y = np.reshape(y,-1)\n",
    "z = np.reshape(z,-1)"
   ]
  },
  {
   "cell_type": "code",
   "execution_count": null,
   "metadata": {},
   "outputs": [],
   "source": []
  },
  {
   "cell_type": "code",
   "execution_count": 14,
   "metadata": {},
   "outputs": [
    {
     "data": {
      "text/plain": [
       "array([ 0.,  0.,  0.,  0.,  0.,  0.,  0.,  0.,  0.,  0.,  0.,  0.,  0.,\n",
       "        0.,  0.,  0.,  0.,  0.,  0.,  0.,  0.,  0.,  0.,  0.,  0.,  0.,\n",
       "        0.,  0.,  0.,  0.,  0.,  0.,  0.,  0.,  0.,  0.,  0.,  0.,  0.,\n",
       "        0.,  0.,  0.,  0.,  0.,  0.,  0.,  0.,  0.,  0.,  0.,  0.,  0.,\n",
       "        0.,  0.,  0.,  0.,  0.,  0.,  0.,  0.,  0.,  0.,  0.,  0.,  0.,\n",
       "        0.,  0.,  0.,  0.,  0.,  0.,  0.,  0.,  0.,  0.,  0.,  0.,  0.,\n",
       "        0.,  0.,  0.,  0.,  0.,  0.,  0.,  0.,  0.,  0.,  0.,  0.,  0.,\n",
       "        0.,  0.,  0.,  0.,  0.,  0.,  0.,  0.,  0.])"
      ]
     },
     "execution_count": 14,
     "metadata": {},
     "output_type": "execute_result"
    }
   ],
   "source": [
    "x[0:100]"
   ]
  },
  {
   "cell_type": "code",
   "execution_count": 15,
   "metadata": {},
   "outputs": [],
   "source": [
    "pin = in_dist4(x,y,z, 0.5)\n",
    "pin = pin.T"
   ]
  },
  {
   "cell_type": "code",
   "execution_count": null,
   "metadata": {},
   "outputs": [],
   "source": []
  },
  {
   "cell_type": "code",
   "execution_count": 16,
   "metadata": {},
   "outputs": [
    {
     "data": {
      "text/plain": [
       "68921"
      ]
     },
     "execution_count": 16,
     "metadata": {},
     "output_type": "execute_result"
    }
   ],
   "source": [
    "41*41*41"
   ]
  },
  {
   "cell_type": "code",
   "execution_count": 17,
   "metadata": {},
   "outputs": [],
   "source": [
    "indexy = np.array([],dtype=int)\n",
    "for k in range (1,inP_point+1):\n",
    "    for k1 in range (1,inP_point+1):\n",
    "        a = [i for i in range(1+(Z_point*Z_point*(k-1))+(Z_point*(k1-1)),inP_point+1+(Z_point*Z_point*(k-1))+(Z_point*(k1-1)))] ### possible index error\n",
    "        indexy =np.append(indexy,a)\n"
   ]
  },
  {
   "cell_type": "code",
   "execution_count": 18,
   "metadata": {},
   "outputs": [
    {
     "data": {
      "text/plain": [
       "61"
      ]
     },
     "execution_count": 18,
     "metadata": {},
     "output_type": "execute_result"
    }
   ],
   "source": [
    "obs_point"
   ]
  },
  {
   "cell_type": "code",
   "execution_count": 19,
   "metadata": {},
   "outputs": [
    {
     "data": {
      "text/plain": [
       "(9261,)"
      ]
     },
     "execution_count": 19,
     "metadata": {},
     "output_type": "execute_result"
    }
   ],
   "source": [
    "indexy.shape"
   ]
  },
  {
   "cell_type": "code",
   "execution_count": 20,
   "metadata": {},
   "outputs": [],
   "source": [
    "indexx = np.array([],dtype=int)\n",
    "for k in range (0,obs_point): \n",
    "    for k1 in range (0,obs_point): \n",
    "        a = [i for i in range(Z_point*Z_point*(k)+k1*(Z_point),Z_point*Z_point*(k)+k1*Z_point+obs_point)] ### possible index error\n",
    "    \n",
    "        indexx =np.append(indexx,a)"
   ]
  },
  {
   "cell_type": "code",
   "execution_count": null,
   "metadata": {},
   "outputs": [],
   "source": []
  },
  {
   "cell_type": "code",
   "execution_count": 21,
   "metadata": {},
   "outputs": [
    {
     "data": {
      "text/plain": [
       "(226981,)"
      ]
     },
     "execution_count": 21,
     "metadata": {},
     "output_type": "execute_result"
    }
   ],
   "source": [
    "indexx.shape"
   ]
  },
  {
   "cell_type": "code",
   "execution_count": 22,
   "metadata": {},
   "outputs": [
    {
     "data": {
      "text/plain": [
       "array([132861, 132862, 132863, ..., 531439, 531440, 531441])"
      ]
     },
     "execution_count": 22,
     "metadata": {},
     "output_type": "execute_result"
    }
   ],
   "source": [
    "indexx+indexy[-1]"
   ]
  },
  {
   "cell_type": "code",
   "execution_count": 23,
   "metadata": {},
   "outputs": [],
   "source": [
    "PYX = np.empty(len(indexy),np.float32)\n",
    "PY = np.empty(len(indexx),np.float32)"
   ]
  },
  {
   "cell_type": "code",
   "execution_count": 24,
   "metadata": {},
   "outputs": [
    {
     "data": {
      "text/plain": [
       "(226981,)"
      ]
     },
     "execution_count": 24,
     "metadata": {},
     "output_type": "execute_result"
    }
   ],
   "source": [
    "PY.shape"
   ]
  },
  {
   "cell_type": "markdown",
   "metadata": {},
   "source": [
    "count = 0\n",
    "for j in indexy:\n",
    "    A = Z[indexx+j-1]\n",
    "    \n",
    "    PYX [count] = bbin**3*np.sum(A*np.log2(A))\n",
    "    count = count + 1"
   ]
  },
  {
   "cell_type": "markdown",
   "metadata": {},
   "source": [
    "count = 0\n",
    "for j in indexx:\n",
    "    B = Z[indexy+j-1]\n",
    "    PY [count] = bbin**3*np.sum(B*pin)\n",
    "    count = count + 1"
   ]
  },
  {
   "cell_type": "code",
   "execution_count": 25,
   "metadata": {},
   "outputs": [],
   "source": [
    "# PYX"
   ]
  },
  {
   "cell_type": "code",
   "execution_count": 26,
   "metadata": {},
   "outputs": [],
   "source": [
    "# PY"
   ]
  },
  {
   "cell_type": "code",
   "execution_count": 27,
   "metadata": {},
   "outputs": [],
   "source": [
    "Z_2 = Z"
   ]
  },
  {
   "cell_type": "code",
   "execution_count": null,
   "metadata": {},
   "outputs": [],
   "source": [
    "\n",
    "\n",
    "\n"
   ]
  },
  {
   "cell_type": "code",
   "execution_count": 28,
   "metadata": {},
   "outputs": [],
   "source": [
    "d_Z_2 = cuda.mem_alloc(np.float32(Z_2).nbytes)\n",
    "cuda.memcpy_htod(d_Z_2, np.float32(Z_2))\n",
    "\n",
    "d_indexx = cuda.mem_alloc(np.int32(indexx).nbytes)\n",
    "cuda.memcpy_htod(d_indexx, np.int32(indexx))\n",
    "\n",
    "d_indexy = cuda.mem_alloc(np.int32(indexy).nbytes)\n",
    "cuda.memcpy_htod(d_indexy, np.int32(indexy))\n",
    "\n",
    "d_pin = cuda.mem_alloc(np.float32(pin).nbytes) \n",
    "cuda.memcpy_htod(d_pin, np.float32(pin))\n",
    "\n",
    "d_PYX = cuda.mem_alloc(np.float32(PYX).nbytes) \n",
    "cuda.memcpy_htod(d_PYX, np.float32(PYX))\n",
    "\n",
    "\n"
   ]
  },
  {
   "cell_type": "code",
   "execution_count": 29,
   "metadata": {},
   "outputs": [],
   "source": [
    "# for doIndexx\n",
    "d_PY = cuda.mem_alloc(np.float32(PY).nbytes) \n",
    "cuda.memcpy_htod(d_PY, np.float32(PY))"
   ]
  },
  {
   "cell_type": "code",
   "execution_count": null,
   "metadata": {},
   "outputs": [],
   "source": []
  },
  {
   "cell_type": "code",
   "execution_count": 30,
   "metadata": {},
   "outputs": [
    {
     "data": {
      "text/plain": [
       "<pycuda._driver.Event at 0x7ff1e20692d0>"
      ]
     },
     "execution_count": 30,
     "metadata": {},
     "output_type": "execute_result"
    }
   ],
   "source": [
    "start.record()\n"
   ]
  },
  {
   "cell_type": "code",
   "execution_count": 31,
   "metadata": {},
   "outputs": [],
   "source": [
    "blocksize = 16\n",
    "gridsize = math.floor(len(indexy)/blocksize)+1\n",
    "funcxy(d_Z_2, d_indexx, d_indexy, d_pin, d_PYX, np.int32(len(indexx)),  block=(blocksize,1,1), grid =(gridsize,1,1))"
   ]
  },
  {
   "cell_type": "code",
   "execution_count": 32,
   "metadata": {},
   "outputs": [],
   "source": [
    "\n",
    "h_PYX = np.zeros(len(indexy), np.float32)\n"
   ]
  },
  {
   "cell_type": "code",
   "execution_count": 33,
   "metadata": {},
   "outputs": [],
   "source": [
    "cuda.memcpy_dtoh(h_PYX, d_PYX)"
   ]
  },
  {
   "cell_type": "code",
   "execution_count": 34,
   "metadata": {},
   "outputs": [
    {
     "name": "stdout",
     "output_type": "stream",
     "text": [
      "0.408411s sec\n"
     ]
    }
   ],
   "source": [
    "\n",
    "end.record()\n",
    "end.synchronize()\n",
    "secs = start.time_till(end)*1e-3\n",
    "# print (\"N :\",total)\n",
    "# print (\"D :\",d)\n",
    "print (\"%fs sec\" % (secs))"
   ]
  },
  {
   "cell_type": "code",
   "execution_count": 35,
   "metadata": {},
   "outputs": [
    {
     "data": {
      "text/plain": [
       "<pycuda._driver.Event at 0x7ff1e20692d0>"
      ]
     },
     "execution_count": 35,
     "metadata": {},
     "output_type": "execute_result"
    }
   ],
   "source": [
    "start.record()"
   ]
  },
  {
   "cell_type": "code",
   "execution_count": 36,
   "metadata": {},
   "outputs": [
    {
     "name": "stdout",
     "output_type": "stream",
     "text": [
      "1774\n"
     ]
    }
   ],
   "source": [
    "blocksize = 128\n",
    "gridsize = math.floor(len(indexx)/blocksize)+1\n",
    "print (gridsize)\n",
    "funcxx(d_Z_2, d_indexx, d_indexy, d_pin, d_PY, np.int32(len(indexy)),  block=(blocksize,1,1), grid =(gridsize,1,1))"
   ]
  },
  {
   "cell_type": "code",
   "execution_count": 37,
   "metadata": {},
   "outputs": [],
   "source": [
    "h_PY = np.zeros(len(indexx), np.float32)"
   ]
  },
  {
   "cell_type": "code",
   "execution_count": 38,
   "metadata": {},
   "outputs": [],
   "source": [
    "cuda.memcpy_dtoh(h_PY, d_PY)"
   ]
  },
  {
   "cell_type": "code",
   "execution_count": 39,
   "metadata": {},
   "outputs": [
    {
     "name": "stdout",
     "output_type": "stream",
     "text": [
      "0.416759s sec\n"
     ]
    }
   ],
   "source": [
    "end.record()\n",
    "end.synchronize()\n",
    "secs = start.time_till(end)*1e-3\n",
    "# print (\"N :\",total)\n",
    "# print (\"D :\",d)\n",
    "print (\"%fs sec\" % (secs))"
   ]
  },
  {
   "cell_type": "code",
   "execution_count": 40,
   "metadata": {},
   "outputs": [],
   "source": [
    "# pd.DataFrame(h_PYX)"
   ]
  },
  {
   "cell_type": "code",
   "execution_count": 41,
   "metadata": {},
   "outputs": [
    {
     "data": {
      "text/plain": [
       "9261"
      ]
     },
     "execution_count": 41,
     "metadata": {},
     "output_type": "execute_result"
    }
   ],
   "source": [
    "len(indexy)"
   ]
  },
  {
   "cell_type": "code",
   "execution_count": 42,
   "metadata": {},
   "outputs": [
    {
     "data": {
      "text/plain": [
       "array([  1.48836509e-04,   1.36338684e-04,   1.25115708e-04,\n",
       "         1.14910988e-04,   1.05685234e-04,   9.72652197e-05,\n",
       "         8.96262936e-05,   8.25925090e-05,   7.59914692e-05,\n",
       "         7.00335149e-05,   6.46874614e-05,   5.97473081e-05,\n",
       "         5.51387566e-05], dtype=float32)"
      ]
     },
     "execution_count": 42,
     "metadata": {},
     "output_type": "execute_result"
    }
   ],
   "source": [
    "h_PY[68916:68929]"
   ]
  },
  {
   "cell_type": "code",
   "execution_count": 43,
   "metadata": {},
   "outputs": [
    {
     "data": {
      "text/plain": [
       "<matplotlib.axes._subplots.AxesSubplot at 0x7ff1e1fcb6a0>"
      ]
     },
     "execution_count": 43,
     "metadata": {},
     "output_type": "execute_result"
    },
    {
     "data": {
      "image/png": "[encoded data removed]",
      "text/plain": [
       "<matplotlib.figure.Figure at 0x7ff216399a58>"
      ]
     },
     "metadata": {},
     "output_type": "display_data"
    }
   ],
   "source": [
    "pd.DataFrame(h_PY).plot()"
   ]
  },
  {
   "cell_type": "code",
   "execution_count": null,
   "metadata": {},
   "outputs": [],
   "source": []
  },
  {
   "cell_type": "code",
   "execution_count": 44,
   "metadata": {},
   "outputs": [],
   "source": [
    "hy = bbin**3*np.sum(-1*h_PY[h_PY>0]*np.log2(h_PY[h_PY>0]))"
   ]
  },
  {
   "cell_type": "code",
   "execution_count": 45,
   "metadata": {},
   "outputs": [
    {
     "data": {
      "text/plain": [
       "5.2702934570312516"
      ]
     },
     "execution_count": 45,
     "metadata": {},
     "output_type": "execute_result"
    }
   ],
   "source": [
    "hy"
   ]
  },
  {
   "cell_type": "code",
   "execution_count": 46,
   "metadata": {},
   "outputs": [],
   "source": [
    "hyc = -bbin**3*np.sum(pin*h_PYX.T)"
   ]
  },
  {
   "cell_type": "code",
   "execution_count": 47,
   "metadata": {},
   "outputs": [
    {
     "data": {
      "text/plain": [
       "4.8023688780925582"
      ]
     },
     "execution_count": 47,
     "metadata": {},
     "output_type": "execute_result"
    }
   ],
   "source": [
    "hyc"
   ]
  },
  {
   "cell_type": "code",
   "execution_count": 48,
   "metadata": {},
   "outputs": [],
   "source": [
    "MI=hy-hyc"
   ]
  },
  {
   "cell_type": "code",
   "execution_count": 49,
   "metadata": {},
   "outputs": [
    {
     "data": {
      "text/plain": [
       "0.46792457893869344"
      ]
     },
     "execution_count": 49,
     "metadata": {},
     "output_type": "execute_result"
    }
   ],
   "source": [
    "MI"
   ]
  },
  {
   "cell_type": "code",
   "execution_count": 50,
   "metadata": {},
   "outputs": [
    {
     "data": {
      "text/plain": [
       "<matplotlib.axes._subplots.AxesSubplot at 0x7ff1e199ccc0>"
      ]
     },
     "execution_count": 50,
     "metadata": {},
     "output_type": "execute_result"
    },
    {
     "data": {
      "image/png": "[encoded data removed]",
      "text/plain": [
       "<matplotlib.figure.Figure at 0x7ff1e19725c0>"
      ]
     },
     "metadata": {},
     "output_type": "display_data"
    }
   ],
   "source": [
    "pd.DataFrame(pin).plot()"
   ]
  }
 ],
 "metadata": {
  "kernelspec": {
   "display_name": "Python 3",
   "language": "python",
   "name": "python3"
  },
  "language_info": {
   "codemirror_mode": {
    "name": "ipython",
    "version": 3
   },
   "file_extension": ".py",
   "mimetype": "text/x-python",
   "name": "python",
   "nbconvert_exporter": "python",
   "pygments_lexer": "ipython3",
   "version": "3.6.4"
  }
 },
 "nbformat": 4,
 "nbformat_minor": 2
}
